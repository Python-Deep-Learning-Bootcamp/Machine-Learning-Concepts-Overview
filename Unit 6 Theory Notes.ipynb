{
 "cells": [
  {
   "cell_type": "markdown",
   "id": "c1490313",
   "metadata": {},
   "source": [
    "What is machine learning\n",
    "- method of data analysis that automates analytical model building using algorithms hat iteratively learn from data, without telling the machine where to look"
   ]
  },
  {
   "cell_type": "markdown",
   "id": "3f44a85c",
   "metadata": {},
   "source": [
    "Neural networks are a way of modeling biological neuron system mathematically\n",
    "- these networks can be used to solve tasks that  other types of algorithmscan not\n",
    "- deep learning refers to neural networks with more than one hidden layer"
   ]
  },
  {
   "cell_type": "markdown",
   "id": "6d32b9ec",
   "metadata": {},
   "source": [
    "Two main types of machine learning tasks\n",
    "- supervised learning\n",
    "- unsupervised learning"
   ]
  },
  {
   "cell_type": "markdown",
   "id": "87324be1",
   "metadata": {},
   "source": [
    "Supervised Learning\n",
    "- trained using labeled examples, such as an input where the desired output is known network receives a set of inputs along with corresponding outputs, algorithm learns by comparing actual output with correct output to find erros modifies the model accordingly"
   ]
  },
  {
   "cell_type": "markdown",
   "id": "02697244",
   "metadata": {},
   "source": [
    "Supervised learning is commonly used in applications where historical data predicts likely future events"
   ]
  },
  {
   "cell_type": "markdown",
   "id": "4845e552",
   "metadata": {},
   "source": [
    "Steps\n",
    "-Data Acquisition\n",
    "-Data Cleaning\n",
    "-Split into training and test data\n",
    "- Model training and building\n",
    "- Model testing using the test data\n",
    "- Adjust model parameters\n",
    "- Model deployment"
   ]
  },
  {
   "cell_type": "markdown",
   "id": "2256d00b",
   "metadata": {},
   "source": [
    "- instead of training and test data sets\n",
    "- split into three sets\n",
    "    - trainging, validation data, test data\n",
    "- once you move on to the final performance metric with test data \n",
    "- you technically cannot go back and make changes to the model (think p-hacking)"
   ]
  },
  {
   "cell_type": "markdown",
   "id": "0e9eff49",
   "metadata": {},
   "source": [
    "Watch for Overfitting and Underfitting"
   ]
  },
  {
   "cell_type": "markdown",
   "id": "34d2de1f",
   "metadata": {},
   "source": [
    "Evaluating performance (classification problems)\n",
    "- accuracy, recall, precision, F1-Score\n",
    "- either you model was correct in its prediction or incorrect in its prediction\n",
    "\n",
    "- test image from x_test into the trained model\n",
    "- know correct label from y_test\n",
    "- get prediction from trained model and then compare prediction to known label\n",
    "- in the real world not all incorrect and correct matches hold the same value"
   ]
  },
  {
   "cell_type": "markdown",
   "id": "c8fa9dd4",
   "metadata": {},
   "source": [
    "Accuracy \n",
    "- number of correct predicitions made by model divided by total number of predictions\n",
    "- useful when target classes are well balanced, equally represented\n",
    "- not good measure when there is an unbalanced class"
   ]
  },
  {
   "cell_type": "markdown",
   "id": "6418abaf",
   "metadata": {},
   "source": [
    "Recall\n",
    "- ability of a model to find all relevant cases withing a data set\n",
    "- the number of true positives divided by the nnumber of true positive plus  the number of flase negatives\n",
    "\n",
    "Precision\n",
    "- ability of classification model to identify only the relevant data points\n",
    "- the number of true positives divided by the number of true positives plus the number of false positives"
   ]
  },
  {
   "cell_type": "markdown",
   "id": "ddb5c32c",
   "metadata": {},
   "source": [
    "- often there is a trade off between recall and precision"
   ]
  },
  {
   "cell_type": "markdown",
   "id": "2ef97ce5",
   "metadata": {},
   "source": [
    "F1-Score\n",
    "- combination of precision and recall\n",
    "- harmonic mean of precision and recall\n",
    "- F1= 2((p*r)/(p+r))"
   ]
  },
  {
   "cell_type": "markdown",
   "id": "f4e572e4",
   "metadata": {},
   "source": [
    "-F1-Score uses harmonic mean which punishes extreme values"
   ]
  },
  {
   "cell_type": "markdown",
   "id": "df56ce89",
   "metadata": {},
   "source": [
    "Confusion matrix\n",
    "- view all correctly classified verus incorrectly classified images"
   ]
  },
  {
   "cell_type": "markdown",
   "id": "c0e379e5",
   "metadata": {},
   "source": [
    "Evaluating Regression \n",
    "- MAE Mean Absolute Error\n",
    "- MSE Mean Squared Error\n",
    "- RMSE Root Mean Square Error"
   ]
  },
  {
   "cell_type": "markdown",
   "id": "cb0394b8",
   "metadata": {},
   "source": [
    "Unsupervised Learning\n",
    "\n",
    "Clustering\n",
    "- grouping together unlabeled data points into categories/clusters\n",
    "- assigned to cluster based on similarity\n",
    "\n",
    "Anomaly Detection\n",
    "- attempts to detect outliers in a data set\n",
    "\n",
    "Dimensionality Reduction\n",
    "- reduce the number of features in a data set\n",
    "\n",
    "-do not know and do not have a correct label to compare to \n",
    "-which is what makes it unsupervised\n",
    "-no test train split, model train on all of the data"
   ]
  },
  {
   "cell_type": "code",
   "execution_count": null,
   "id": "bce1210a",
   "metadata": {},
   "outputs": [],
   "source": []
  }
 ],
 "metadata": {
  "kernelspec": {
   "display_name": "Python 3 (ipykernel)",
   "language": "python",
   "name": "python3"
  },
  "language_info": {
   "codemirror_mode": {
    "name": "ipython",
    "version": 3
   },
   "file_extension": ".py",
   "mimetype": "text/x-python",
   "name": "python",
   "nbconvert_exporter": "python",
   "pygments_lexer": "ipython3",
   "version": "3.7.3"
  }
 },
 "nbformat": 4,
 "nbformat_minor": 5
}
